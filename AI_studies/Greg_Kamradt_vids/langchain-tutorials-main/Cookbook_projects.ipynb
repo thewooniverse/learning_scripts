{
 "cells": [
  {
   "cell_type": "markdown",
   "id": "f6b843ee-f8c9-4eb8-9f78-50db9d5e7a67",
   "metadata": {},
   "source": [
    "# Practice projects"
   ]
  },
  {
   "cell_type": "code",
   "execution_count": 1,
   "id": "da86913a-2ea3-466e-afe8-e4cd3483a30c",
   "metadata": {},
   "outputs": [],
   "source": [
    "from dotenv import load_dotenv\n",
    "import os\n",
    "\n",
    "load_dotenv()\n",
    "\n",
    "openai_api_key=os.getenv('OPENAI_API_KEY', 'YourAPIKey')"
   ]
  }
 ],
 "metadata": {
  "kernelspec": {
   "display_name": "Python 3 (ipykernel)",
   "language": "python",
   "name": "python3"
  },
  "language_info": {
   "codemirror_mode": {
    "name": "ipython",
    "version": 3
   },
   "file_extension": ".py",
   "mimetype": "text/x-python",
   "name": "python",
   "nbconvert_exporter": "python",
   "pygments_lexer": "ipython3",
   "version": "3.11.4"
  }
 },
 "nbformat": 4,
 "nbformat_minor": 5
}
