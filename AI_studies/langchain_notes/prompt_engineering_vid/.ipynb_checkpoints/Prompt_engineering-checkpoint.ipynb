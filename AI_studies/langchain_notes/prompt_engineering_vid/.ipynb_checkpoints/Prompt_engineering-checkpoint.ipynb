{
 "cells": [
  {
   "attachments": {},
   "cell_type": "markdown",
   "id": "22e15cd6-10a1-49a1-b7e5-909ab9bd94af",
   "metadata": {},
   "source": [
    "# Fewshot Prompt Tempaltes\n",
    "\n",
    "<img src=\"./fewshot.png\" \n",
    "     align=\"left\" \n",
    "     width=\"500\" />"
   ]
  }
 ],
 "metadata": {
  "kernelspec": {
   "display_name": "Python 3 (ipykernel)",
   "language": "python",
   "name": "python3"
  },
  "language_info": {
   "codemirror_mode": {
    "name": "ipython",
    "version": 3
   },
   "file_extension": ".py",
   "mimetype": "text/x-python",
   "name": "python",
   "nbconvert_exporter": "python",
   "pygments_lexer": "ipython3",
   "version": "3.11.4"
  }
 },
 "nbformat": 4,
 "nbformat_minor": 5
}
