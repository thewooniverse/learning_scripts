{
 "cells": [
  {
   "cell_type": "markdown",
   "id": "da089c2d-2d87-42af-9116-a86ac7a17399",
   "metadata": {},
   "source": [
    "# Prompt Engineering:\n",
    "\n",
    "## Prompt engineering techniques;\n",
    "There are many advanced prompting techniques that are designed to improve performance on complex tasks such as:\n",
    "- Few Shot prompts\n",
    "- Chain-of-Thought prompting\n",
    "- Self-Consistency\n",
    "- Knowledge Generation Prompting\n",
    "- ReAct\n"
   ]
  },
  {
   "attachments": {},
   "cell_type": "markdown",
   "id": "22e15cd6-10a1-49a1-b7e5-909ab9bd94af",
   "metadata": {},
   "source": [
    "### Fewshot Prompt Templates\n",
    "Few shot prompt templates enables in-context learning for the model by giving it a few examples; basically providing examples / exemplars to steer the model towards a specfic better performance.\n",
    "\n",
    "More demonstration, the more it learns.\n",
    "\n",
    "---\n",
    "<center><img src=\"./fewshot.png\" \n",
    "     align=\"center\"\n",
    "     width=\"375\" /><center/>"
   ]
  },
  {
   "cell_type": "code",
   "execution_count": null,
   "id": "9675557b-bc85-4e71-bf6b-24faad93788c",
   "metadata": {},
   "outputs": [],
   "source": []
  },
  {
   "cell_type": "markdown",
   "id": "7869d8f7-5657-493a-8768-4d7326ccc8d7",
   "metadata": {},
   "source": [
    "### Chain-of-Thought (CoT) prompting\n",
    "\n",
    "Telling the model step by step the chain of thought in solving a specific exemplar; and asking for it to solve a similar question. As seen in highlighted example below, it shows the thought process.\n",
    "\n",
    "---\n",
    "<center><img src=\"./cot.png\" \n",
    "     align=\"center\"\n",
    "     width=\"375\" /><center/>\n",
    "\n",
    "\n",
    "---\n",
    "\n",
    "Interestingly, there has also been a paper where it suggests examples are not even necessary. prompt the model to think step by step -> and it induces model to think step by step and reason.\n",
    "\n",
    "<center><img src=\"./zs_cot.png\" \n",
    "     align=\"center\"\n",
    "     width=\"375\" /><center/>"
   ]
  },
  {
   "cell_type": "code",
   "execution_count": null,
   "id": "231334d5-8e04-4fba-85f9-0eefd7560c00",
   "metadata": {},
   "outputs": [],
   "source": []
  },
  {
   "cell_type": "markdown",
   "id": "e136e1e2-d575-4d92-bf90-a75d1797656b",
   "metadata": {},
   "source": [
    "### Self-Consistency\n",
    "\n",
    "Baic\n"
   ]
  },
  {
   "cell_type": "code",
   "execution_count": null,
   "id": "00f33320-226b-4a4a-9710-d84824a5dc40",
   "metadata": {},
   "outputs": [],
   "source": []
  }
 ],
 "metadata": {
  "kernelspec": {
   "display_name": "Python 3 (ipykernel)",
   "language": "python",
   "name": "python3"
  },
  "language_info": {
   "codemirror_mode": {
    "name": "ipython",
    "version": 3
   },
   "file_extension": ".py",
   "mimetype": "text/x-python",
   "name": "python",
   "nbconvert_exporter": "python",
   "pygments_lexer": "ipython3",
   "version": "3.11.4"
  }
 },
 "nbformat": 4,
 "nbformat_minor": 5
}
