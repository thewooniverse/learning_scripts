{
 "cells": [
  {
   "cell_type": "markdown",
   "id": "da089c2d-2d87-42af-9116-a86ac7a17399",
   "metadata": {},
   "source": [
    "# Prompt Engineering:\n"
   ]
  },
  {
   "attachments": {},
   "cell_type": "markdown",
   "id": "22e15cd6-10a1-49a1-b7e5-909ab9bd94af",
   "metadata": {},
   "source": [
    "### Fewshot Prompt Templates\n",
    "Few shot prompt templates enables in-context learning for the model by giving it a few examples;\n",
    "<img src=\"./fewshot.png\" \n",
    "     align=\"center\"\n",
    "     width=\"375\" />"
   ]
  }
 ],
 "metadata": {
  "kernelspec": {
   "display_name": "Python 3 (ipykernel)",
   "language": "python",
   "name": "python3"
  },
  "language_info": {
   "codemirror_mode": {
    "name": "ipython",
    "version": 3
   },
   "file_extension": ".py",
   "mimetype": "text/x-python",
   "name": "python",
   "nbconvert_exporter": "python",
   "pygments_lexer": "ipython3",
   "version": "3.11.4"
  }
 },
 "nbformat": 4,
 "nbformat_minor": 5
}
