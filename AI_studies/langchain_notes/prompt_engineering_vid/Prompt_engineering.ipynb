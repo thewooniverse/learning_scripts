{
 "cells": [
  {
   "cell_type": "markdown",
   "id": "da089c2d-2d87-42af-9116-a86ac7a17399",
   "metadata": {},
   "source": [
    "# Prompt Engineering:\n"
   ]
  },
  {
   "attachments": {},
   "cell_type": "markdown",
   "id": "22e15cd6-10a1-49a1-b7e5-909ab9bd94af",
   "metadata": {},
   "source": [
    "### Fewshot Prompt Templates\n",
    "Few shot prompt templates enables in-context learning for the model by giving it a few examples;\n",
    "\n",
    "---\n",
    "<center><img src=\"./fewshot.png\" \n",
    "     align=\"center\"\n",
    "     width=\"375\" /><center/>"
   ]
  },
  {
   "cell_type": "code",
   "execution_count": null,
   "id": "9675557b-bc85-4e71-bf6b-24faad93788c",
   "metadata": {},
   "outputs": [],
   "source": []
  },
  {
   "cell_type": "markdown",
   "id": "7869d8f7-5657-493a-8768-4d7326ccc8d7",
   "metadata": {},
   "source": [
    "### Chain-of-Thought (CoT) prompting\n",
    "\n",
    "\n",
    "---\n",
    "<center><img src=\"./cot.png\" \n",
    "     align=\"center\"\n",
    "     width=\"375\" /><center/>\n",
    "\n",
    "\n",
    "---\n",
    "\n",
    "Interestingly, there has also been a paper where it usggests examp\n",
    "\n",
    "<center><img src=\"./zs_cot.png\" \n",
    "     align=\"center\"\n",
    "     width=\"375\" /><center/>"
   ]
  }
 ],
 "metadata": {
  "kernelspec": {
   "display_name": "Python 3 (ipykernel)",
   "language": "python",
   "name": "python3"
  },
  "language_info": {
   "codemirror_mode": {
    "name": "ipython",
    "version": 3
   },
   "file_extension": ".py",
   "mimetype": "text/x-python",
   "name": "python",
   "nbconvert_exporter": "python",
   "pygments_lexer": "ipython3",
   "version": "3.11.4"
  }
 },
 "nbformat": 4,
 "nbformat_minor": 5
}
