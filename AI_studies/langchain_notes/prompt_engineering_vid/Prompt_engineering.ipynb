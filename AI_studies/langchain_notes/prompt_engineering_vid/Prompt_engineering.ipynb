{
 "cells": [
  {
   "cell_type": "markdown",
   "id": "da089c2d-2d87-42af-9116-a86ac7a17399",
   "metadata": {},
   "source": [
    "# Prompt Engineering:\n",
    "\n",
    "What are Prompts? Prompts involve instructions and context passed to a language model to achieve a desired task\n",
    "\n",
    "Prompt engineering is the practice of developing and optimizing prompts to efficiently use language models (LMs or LLMs) for a variety of applications. This also applies to other models like image generation models such as DALL-E, stable diffisuion models.\n",
    "- Prompt engineering is a usefull skill for AI engineers and researchers to improve and efficiently use language models.\n",
    "\n",
    "---\n",
    "### Elements of a Prompt\n",
    "A prompt is composed with the following components:\n",
    "<img src=\"./prompt_elements.png\" \n",
    "     align=\"center\"\n",
    "     width=\"375\" />\n",
    "\n",
    "In the above example, we are asking the LM to classify a piece of text.\n",
    "\n",
    "---\n",
    "### Settings to keep in mind\n",
    "You can get very different results using a LM when using different settings. One important setting is controlling how deterministic the model is when generating completion for prompts:\n",
    "- Temperature and top_p are two important parameters to keep in mind\n",
    "- Generally, keep them low if you are looking for exact answers\n",
    "- Keep them high if you are looking for more diverse responses.\n",
    "\n",
    "---\n",
    "### Different types of prompts\n",
    "Some include Text Summarization, Question adn Answering, Text Classification, Role Playing, Code Generation, Reasoning etc...\n",
    "\n",
    "\n",
    "<img src=\"./classification_simple.png\" \n",
    "     align=\"center\"\n",
    "     width=\"375\" />\n",
    "\n",
    "\n",
    "Demo: https://github.com/dair-ai/Prompt-Engineering-Guide/blob/main/notebooks/pe-lecture.ipynb\n"
   ]
  },
  {
   "cell_type": "code",
   "execution_count": 2,
   "id": "310802bc-6f2a-470b-9518-27cac878f600",
   "metadata": {},
   "outputs": [],
   "source": [
    "from dotenv import load_dotenv\n",
    "import os\n",
    "\n",
    "load_dotenv()\n",
    "\n",
    "openai_api_key=os.getenv('OPENAI_API_KEY', 'YourAPIKey')"
   ]
  },
  {
   "cell_type": "markdown",
   "id": "1f358bfc-73e6-4dc0-a12e-4095f016beb5",
   "metadata": {},
   "source": [
    "## Advanced Prompt engineering techniques;\n",
    "There are many advanced prompting techniques that are designed to improve performance on complex tasks such as:\n",
    "- Few Shot prompts\n",
    "- Chain-of-Thought prompting\n",
    "- Self-Consistency\n",
    "- Knowledge Generation Prompting\n",
    "- ReAct"
   ]
  },
  {
   "attachments": {},
   "cell_type": "markdown",
   "id": "22e15cd6-10a1-49a1-b7e5-909ab9bd94af",
   "metadata": {},
   "source": [
    "### Fewshot Prompt Templates\n",
    "Few shot prompt templates enables in-context learning for the model by giving it a few examples; basically providing examples / exemplars to steer the model towards a specfic better performance.\n",
    "\n",
    "More demonstration, the more it learns.\n",
    "\n",
    "---\n",
    "<center><img src=\"./fewshot.png\" \n",
    "     align=\"center\"\n",
    "     width=\"375\" /><center/>"
   ]
  },
  {
   "cell_type": "code",
   "execution_count": null,
   "id": "9675557b-bc85-4e71-bf6b-24faad93788c",
   "metadata": {},
   "outputs": [],
   "source": [
    "# FewShot practice\n"
   ]
  },
  {
   "cell_type": "code",
   "execution_count": null,
   "id": "3ea88b0a-c429-4390-ac08-92e72f5180c9",
   "metadata": {},
   "outputs": [],
   "source": []
  },
  {
   "cell_type": "markdown",
   "id": "7869d8f7-5657-493a-8768-4d7326ccc8d7",
   "metadata": {},
   "source": [
    "### Chain-of-Thought (CoT) prompting\n",
    "\n",
    "Telling the model step by step the chain of thought in solving a specific exemplar; and asking for it to solve a similar question. As seen in highlighted example below, it shows the thought process.\n",
    "\n",
    "---\n",
    "<center><img src=\"./cot.png\" \n",
    "     align=\"center\"\n",
    "     width=\"375\" /><center/>\n",
    "\n",
    "\n",
    "---\n",
    "\n",
    "Interestingly, there has also been a paper where it suggests examples are not even necessary. prompt the model to think step by step -> and it induces model to think step by step and reason.\n",
    "\n",
    "<center><img src=\"./zs_cot.png\" \n",
    "     align=\"center\"\n",
    "     width=\"375\" /><center/>"
   ]
  },
  {
   "cell_type": "code",
   "execution_count": null,
   "id": "231334d5-8e04-4fba-85f9-0eefd7560c00",
   "metadata": {},
   "outputs": [],
   "source": []
  },
  {
   "cell_type": "markdown",
   "id": "e136e1e2-d575-4d92-bf90-a75d1797656b",
   "metadata": {},
   "source": [
    "### Self-Consistency\n",
    "Language models alone are not great at complex reasoning tasks ; they are not designed to do this.\n",
    "There are prompt engineering solutions that help solve a lot of these like Self Consistency.\n",
    "Self consistency is basically to sample multiple diverse resasoning paths and use the generations to sleect the most consistent answer. *This helps boost the performance of CoT prompting on tasks involving arithmetic and common sense reasoning*\n",
    "\n",
    "<center><img src=\"./sc_cot.png\" \n",
    "     align=\"center\"\n",
    "     width=\"375\" /><center/>\n",
    "\n",
    "\n",
    "---\n",
    "\n",
    "<center><img src=\"./sc_example.png\" \n",
    "     align=\"center\"\n",
    "     width=\"375\" /><center/>\n"
   ]
  },
  {
   "cell_type": "code",
   "execution_count": null,
   "id": "f97d12ae-3bf2-4e64-938d-520f7ea8426d",
   "metadata": {},
   "outputs": [],
   "source": []
  },
  {
   "cell_type": "markdown",
   "id": "36bb4c88-7cfa-4d60-8ce0-80d317189156",
   "metadata": {},
   "source": [
    "### Knowledge Generation\n",
    "Using a model to generate knowledge that can be used to help sovle a problem.\n"
   ]
  },
  {
   "cell_type": "code",
   "execution_count": null,
   "id": "94726af9-1383-41a3-a466-fc541e68cb26",
   "metadata": {},
   "outputs": [],
   "source": []
  },
  {
   "cell_type": "markdown",
   "id": "7a6b7981-7b92-4f44-ac4d-df8bfdaa1522",
   "metadata": {},
   "source": [
    "### Program-aided Language Model\n",
    "Sometimes CoT is not good enough, PAL is thinking could the model answer the questions better if they used a python interpreter or the likes of.\n",
    "**Basically uses a language model to read problems and generate programs as the intermediate reasoning step**. In this case we are relying on an external tool;.\n",
    "\n"
   ]
  },
  {
   "cell_type": "code",
   "execution_count": null,
   "id": "874e7c6c-16c8-4e10-957e-823c7521fa6d",
   "metadata": {},
   "outputs": [],
   "source": []
  },
  {
   "cell_type": "markdown",
   "id": "fd267f24-233f-4f35-9c91-dd18c9960cbe",
   "metadata": {},
   "source": [
    "### ReAct\n",
    "ReAct == Reason + Act. Relying not only on capabilities of the model, but also relies on external sources.\n"
   ]
  },
  {
   "cell_type": "code",
   "execution_count": null,
   "id": "58997436-7ad4-4f71-8c5d-f9c1b39442b4",
   "metadata": {},
   "outputs": [],
   "source": []
  },
  {
   "cell_type": "code",
   "execution_count": null,
   "id": "db35cd89-01af-442d-9b9f-13b58abd33f0",
   "metadata": {},
   "outputs": [],
   "source": []
  },
  {
   "cell_type": "code",
   "execution_count": null,
   "id": "5cc95da2-b680-4399-9e89-ff7f1f11a23d",
   "metadata": {},
   "outputs": [],
   "source": []
  },
  {
   "cell_type": "markdown",
   "id": "3a540660-eb15-4963-8487-1f51895dc9cd",
   "metadata": {},
   "source": [
    "# Practices"
   ]
  },
  {
   "cell_type": "code",
   "execution_count": 1,
   "id": "7eedc02f-2b07-47d0-8325-6ea304e9c78a",
   "metadata": {},
   "outputs": [],
   "source": []
  }
 ],
 "metadata": {
  "kernelspec": {
   "display_name": "Python 3 (ipykernel)",
   "language": "python",
   "name": "python3"
  },
  "language_info": {
   "codemirror_mode": {
    "name": "ipython",
    "version": 3
   },
   "file_extension": ".py",
   "mimetype": "text/x-python",
   "name": "python",
   "nbconvert_exporter": "python",
   "pygments_lexer": "ipython3",
   "version": "3.11.4"
  }
 },
 "nbformat": 4,
 "nbformat_minor": 5
}
