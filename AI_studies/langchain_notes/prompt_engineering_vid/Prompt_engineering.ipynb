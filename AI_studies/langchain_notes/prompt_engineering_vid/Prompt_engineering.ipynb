{
 "cells": [
  {
   "cell_type": "markdown",
   "id": "da089c2d-2d87-42af-9116-a86ac7a17399",
   "metadata": {},
   "source": [
    "# Prompt Engineering:\n",
    "\n",
    "What are Prompts? Prompts involve instructions and context passed to a language model to achieve a desired task\n",
    "\n",
    "Prompt engineering is the practice of developing and optimizing prompts to efficiently use language models (LMs or LLMs) for a variety of applications. This also applies to other models like image generation models such as DALL-E, stable diffisuion models.\n",
    "- Prompt engineering is a usefull skill for AI engineers and researchers to improve and efficiently use language models.\n",
    "\n",
    "---\n",
    "### Elements of a Prompt\n",
    "A prompt is composed with the following components:\n",
    "<img src=\"./prompt_elements.png\" \n",
    "     align=\"center\"\n",
    "     width=\"375\" />\n",
    "\n",
    "In the above example, we are asking the LM to classify a piece of text.\n",
    "\n",
    "---\n",
    "### Settings to keep in mind\n",
    "You can get very different results using a LM when using different settings. One important setting is controlling how deterministic the model is when generating completion for prompts:\n",
    "- Temperature and top_p are two important parameters to keep in mind\n",
    "- Generally, keep them low if you are looking for exact answers\n",
    "- Keep them high if you are looking for more diverse responses.\n",
    "\n",
    "\n"
   ]
  },
  {
   "cell_type": "markdown",
   "id": "1f358bfc-73e6-4dc0-a12e-4095f016beb5",
   "metadata": {},
   "source": [
    "## Advanced Prompt engineering techniques;\n",
    "There are many advanced prompting techniques that are designed to improve performance on complex tasks such as:\n",
    "- Few Shot prompts\n",
    "- Chain-of-Thought prompting\n",
    "- Self-Consistency\n",
    "- Knowledge Generation Prompting\n",
    "- ReAct"
   ]
  },
  {
   "attachments": {},
   "cell_type": "markdown",
   "id": "22e15cd6-10a1-49a1-b7e5-909ab9bd94af",
   "metadata": {},
   "source": [
    "### Fewshot Prompt Templates\n",
    "Few shot prompt templates enables in-context learning for the model by giving it a few examples; basically providing examples / exemplars to steer the model towards a specfic better performance.\n",
    "\n",
    "More demonstration, the more it learns.\n",
    "\n",
    "---\n",
    "<center><img src=\"./fewshot.png\" \n",
    "     align=\"center\"\n",
    "     width=\"375\" /><center/>"
   ]
  },
  {
   "cell_type": "code",
   "execution_count": null,
   "id": "9675557b-bc85-4e71-bf6b-24faad93788c",
   "metadata": {},
   "outputs": [],
   "source": []
  },
  {
   "cell_type": "markdown",
   "id": "7869d8f7-5657-493a-8768-4d7326ccc8d7",
   "metadata": {},
   "source": [
    "### Chain-of-Thought (CoT) prompting\n",
    "\n",
    "Telling the model step by step the chain of thought in solving a specific exemplar; and asking for it to solve a similar question. As seen in highlighted example below, it shows the thought process.\n",
    "\n",
    "---\n",
    "<center><img src=\"./cot.png\" \n",
    "     align=\"center\"\n",
    "     width=\"375\" /><center/>\n",
    "\n",
    "\n",
    "---\n",
    "\n",
    "Interestingly, there has also been a paper where it suggests examples are not even necessary. prompt the model to think step by step -> and it induces model to think step by step and reason.\n",
    "\n",
    "<center><img src=\"./zs_cot.png\" \n",
    "     align=\"center\"\n",
    "     width=\"375\" /><center/>"
   ]
  },
  {
   "cell_type": "code",
   "execution_count": null,
   "id": "231334d5-8e04-4fba-85f9-0eefd7560c00",
   "metadata": {},
   "outputs": [],
   "source": []
  },
  {
   "cell_type": "markdown",
   "id": "e136e1e2-d575-4d92-bf90-a75d1797656b",
   "metadata": {},
   "source": [
    "### Self-Consistency\n",
    "\n",
    "Baic\n"
   ]
  },
  {
   "cell_type": "code",
   "execution_count": null,
   "id": "00f33320-226b-4a4a-9710-d84824a5dc40",
   "metadata": {},
   "outputs": [],
   "source": []
  }
 ],
 "metadata": {
  "kernelspec": {
   "display_name": "Python 3 (ipykernel)",
   "language": "python",
   "name": "python3"
  },
  "language_info": {
   "codemirror_mode": {
    "name": "ipython",
    "version": 3
   },
   "file_extension": ".py",
   "mimetype": "text/x-python",
   "name": "python",
   "nbconvert_exporter": "python",
   "pygments_lexer": "ipython3",
   "version": "3.11.4"
  }
 },
 "nbformat": 4,
 "nbformat_minor": 5
}
